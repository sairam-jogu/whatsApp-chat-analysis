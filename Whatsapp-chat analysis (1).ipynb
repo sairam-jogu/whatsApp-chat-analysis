{
 "cells": [
  {
   "cell_type": "code",
   "execution_count": null,
   "id": "91dc8d8a",
   "metadata": {},
   "outputs": [],
   "source": [
    "import re\n",
    "import numpy as np\n",
    "import pandas as pd\n",
    "import seaborn as sns"
   ]
  },
  {
   "cell_type": "code",
   "execution_count": null,
   "id": "a8604288",
   "metadata": {},
   "outputs": [],
   "source": []
  },
  {
   "cell_type": "code",
   "execution_count": null,
   "id": "5ff1f6ea",
   "metadata": {},
   "outputs": [],
   "source": [
    "file = open('chatExported.txt','r',encoding='utf-8')"
   ]
  },
  {
   "cell_type": "code",
   "execution_count": null,
   "id": "b9bda467",
   "metadata": {},
   "outputs": [],
   "source": [
    "data = file.read()\n",
    "# print(data)"
   ]
  },
  {
   "cell_type": "code",
   "execution_count": null,
   "id": "86c1b6a7",
   "metadata": {},
   "outputs": [],
   "source": [
    "pattern = r'\\d{1,2}/\\d{1,2}/\\d{2,4},\\s\\d{1,2}:\\d{2}\\s[ap]m\\s-\\s'"
   ]
  },
  {
   "cell_type": "code",
   "execution_count": null,
   "id": "90e6a8ce",
   "metadata": {},
   "outputs": [],
   "source": [
    "messages = re.split(pattern,data)[1:  ]\n",
    "\n"
   ]
  },
  {
   "cell_type": "code",
   "execution_count": null,
   "id": "0a7cc513",
   "metadata": {},
   "outputs": [],
   "source": [
    "dates = re.findall(pattern,data)\n",
    "dates"
   ]
  },
  {
   "cell_type": "code",
   "execution_count": null,
   "id": "2535138d",
   "metadata": {},
   "outputs": [],
   "source": [
    "dates = [date.strip(' -') for date in dates]\n",
    "# messages = [date.strip('\\n') for message in messages]\n",
    "df = pd.DataFrame({'messages':messages,\"dates\":dates})\n",
    "df.head()"
   ]
  },
  {
   "cell_type": "code",
   "execution_count": null,
   "id": "87881cf6",
   "metadata": {},
   "outputs": [],
   "source": [
    "\n",
    "date_format = '%d/%m/%y, %I:%M %p'\n",
    "df['dates'] = pd.to_datetime(df['dates'], format=date_format)\n",
    "df.head()\n",
    "\n"
   ]
  },
  {
   "cell_type": "code",
   "execution_count": null,
   "id": "69f83def",
   "metadata": {},
   "outputs": [],
   "source": []
  },
  {
   "cell_type": "code",
   "execution_count": null,
   "id": "163bba8a",
   "metadata": {},
   "outputs": [],
   "source": [
    "users = []\n",
    "msgs = []\n",
    "\n",
    "for message in df['messages']:\n",
    "    splitting = re.split(':\\s', message, maxsplit=1)\n",
    "    \n",
    "    if len(splitting) == 2:\n",
    "        username, message_text = splitting\n",
    "        users.append(username)\n",
    "        msgs.append(message_text)\n",
    "    else:\n",
    "        users.append('message')\n",
    "        msgs.append(message)\n",
    "\n",
    "\n",
    "\n",
    "\n",
    "\n",
    "\n"
   ]
  },
  {
   "cell_type": "code",
   "execution_count": null,
   "id": "4e65d6f3",
   "metadata": {},
   "outputs": [],
   "source": [
    "df"
   ]
  },
  {
   "cell_type": "code",
   "execution_count": null,
   "id": "957d8f50",
   "metadata": {},
   "outputs": [],
   "source": [
    "df['users'] = users\n",
    "df2 = df\n",
    "df['messages'] = msgs\n",
    "df"
   ]
  },
  {
   "cell_type": "code",
   "execution_count": null,
   "id": "a6235ea0",
   "metadata": {},
   "outputs": [],
   "source": [
    "\n",
    "df['messages'] = msgs\n",
    "df.head()"
   ]
  },
  {
   "cell_type": "code",
   "execution_count": null,
   "id": "b5410e3c",
   "metadata": {},
   "outputs": [],
   "source": [
    "df2['year'] = df2['dates'].dt.year\n",
    "df2"
   ]
  },
  {
   "cell_type": "code",
   "execution_count": null,
   "id": "b78f6b8a",
   "metadata": {},
   "outputs": [],
   "source": [
    "df2['month'] = df2['dates'].dt.month_name()\n",
    "df2"
   ]
  },
  {
   "cell_type": "code",
   "execution_count": null,
   "id": "71f31851",
   "metadata": {},
   "outputs": [],
   "source": [
    "df2.drop(['year'],axis=1)\n"
   ]
  },
  {
   "cell_type": "code",
   "execution_count": null,
   "id": "3392ca0f",
   "metadata": {},
   "outputs": [],
   "source": [
    "df2['month'] = df2['dates'].dt.month_name()\n",
    "df2"
   ]
  },
  {
   "cell_type": "code",
   "execution_count": null,
   "id": "9630d4f3",
   "metadata": {},
   "outputs": [],
   "source": [
    "df2['day'] = df2['dates'].dt.day\n",
    "df2"
   ]
  },
  {
   "cell_type": "code",
   "execution_count": null,
   "id": "126a550f",
   "metadata": {},
   "outputs": [],
   "source": [
    "df2['hour'] = df2['dates'].dt.hour\n",
    "df2"
   ]
  },
  {
   "cell_type": "code",
   "execution_count": null,
   "id": "bb2d454f",
   "metadata": {},
   "outputs": [],
   "source": [
    "df2['min'] = df2['dates'].dt.minute\n",
    "df2.head()"
   ]
  },
  {
   "cell_type": "code",
   "execution_count": null,
   "id": "b217b1d6",
   "metadata": {},
   "outputs": [],
   "source": [
    "lst = df2['users'].unique()\n",
    "lst"
   ]
  },
  {
   "cell_type": "code",
   "execution_count": null,
   "id": "b255d0af",
   "metadata": {},
   "outputs": [],
   "source": [
    "df2[df2['users'] == 'Saatvii'].shape[0]"
   ]
  },
  {
   "cell_type": "code",
   "execution_count": null,
   "id": "5f666a2c",
   "metadata": {},
   "outputs": [],
   "source": [
    "messages = []\n",
    "for message in df2['messages']:\n",
    "#     print(message)\n",
    "    messages.extend(message.split())\n",
    "len(messages)"
   ]
  },
  {
   "cell_type": "code",
   "execution_count": null,
   "id": "a66e3bbb",
   "metadata": {},
   "outputs": [],
   "source": [
    "media_count = df2[df2['messages'] == '<Media omitted>\\n'].shape[0]\n",
    "# df2[df2['messages'] == '<Media omitted>\\n']\n",
    "media_count"
   ]
  },
  {
   "cell_type": "code",
   "execution_count": null,
   "id": "efab203f",
   "metadata": {},
   "outputs": [],
   "source": [
    "media_ind = df2[df2['users'] == '👻']\n",
    "media_ind[media_ind['messages'] ==  '<Media omitted>\\n']\n",
    "\n"
   ]
  },
  {
   "cell_type": "code",
   "execution_count": null,
   "id": "9633d28c",
   "metadata": {},
   "outputs": [],
   "source": [
    "pip install urlextract"
   ]
  },
  {
   "cell_type": "code",
   "execution_count": null,
   "id": "1cdf75b3",
   "metadata": {},
   "outputs": [],
   "source": [
    "from urlextract import URLExtract\n",
    "\n",
    "extractor = URLExtract()\n",
    "urls = extractor.find_urls(\"Text with URLs. Let's have URL gmail.com as an example.\")\n",
    "print(urls) # prints: ['janlipovsky.cz']"
   ]
  },
  {
   "cell_type": "code",
   "execution_count": null,
   "id": "7717e298",
   "metadata": {},
   "outputs": [],
   "source": [
    "##Busiest person in the chat\n",
    "df2\n",
    "import matplotlib.pyplot as plt"
   ]
  },
  {
   "cell_type": "code",
   "execution_count": null,
   "id": "4adf7f30",
   "metadata": {},
   "outputs": [],
   "source": [
    "x = df2['users'].value_counts().head()\n",
    "\n",
    "names = x.index\n",
    "count = x.values\n",
    "x"
   ]
  },
  {
   "cell_type": "code",
   "execution_count": null,
   "id": "b8ff8161",
   "metadata": {},
   "outputs": [],
   "source": [
    "busy = sns.barplot(data = df2,x=names,y=count)\n",
    "plt.xticks(rotation=\"vertical\")\n",
    "busy.set_title(\"Top 5 Busiest Persons in the group\")\n",
    "busy.set_xlabel(\"User Names\")\n",
    "busy.set_ylabel(\"Messages Count\")\n",
    "plt.show()"
   ]
  },
  {
   "cell_type": "code",
   "execution_count": null,
   "id": "0dcb9639",
   "metadata": {},
   "outputs": [],
   "source": [
    "\n",
    "df3 = round((df2['users'].value_counts() / df2.shape[0]) * 100, 2).reset_index().rename(columns={'index': 'name', 'users': 'percent'})\n",
    "df3"
   ]
  },
  {
   "cell_type": "code",
   "execution_count": null,
   "id": "c51616b0",
   "metadata": {},
   "outputs": [],
   "source": [
    "df3.plot(kind=\"pie\",labels ='name',values='percent')"
   ]
  },
  {
   "cell_type": "code",
   "execution_count": null,
   "id": "c56dbfc1",
   "metadata": {},
   "outputs": [],
   "source": [
    "palette_color = sns.color_palette('bright')\n",
    "  \n",
    "# plotting data on chart\n",
    "# plt.pie(data, labels=keys, colors=palette_color, autopct='%.0f%%')\n",
    "pie = plt.pie(df3.head()['percent'],labels = df3.head()['name'],colors=palette_color,autopct='%0f%%',)\n"
   ]
  },
  {
   "cell_type": "code",
   "execution_count": null,
   "id": "7e736523",
   "metadata": {},
   "outputs": [],
   "source": [
    "pip install wordcloud"
   ]
  },
  {
   "cell_type": "code",
   "execution_count": null,
   "id": "6559a6d8",
   "metadata": {},
   "outputs": [],
   "source": [
    "from wordcloud import WordCloud"
   ]
  },
  {
   "cell_type": "code",
   "execution_count": null,
   "id": "59c6be47",
   "metadata": {},
   "outputs": [],
   "source": [
    "wc = WordCloud(width=500,height=500,min_font_size = 10,background_color='white')\n",
    "df_wc = wc.generate(df2['messages'].str.cat(sep = \" \"))\n",
    "df_wc"
   ]
  },
  {
   "cell_type": "code",
   "execution_count": null,
   "id": "fff0b6d1",
   "metadata": {},
   "outputs": [],
   "source": [
    "img = plt.imshow(df_wc)"
   ]
  },
  {
   "cell_type": "code",
   "execution_count": null,
   "id": "7d27d334",
   "metadata": {},
   "outputs": [],
   "source": [
    "temp = df2[df2['users'] != 'message']\n",
    "temp = temp[temp['messages'] != \"<Media omitted>\\n\"]\n",
    "temp"
   ]
  },
  {
   "cell_type": "code",
   "execution_count": null,
   "id": "f8131e4e",
   "metadata": {},
   "outputs": [],
   "source": [
    "file = open('stopwords.txt','r')\n",
    "stop_words = file.read()\n",
    "stop_words\n"
   ]
  },
  {
   "cell_type": "code",
   "execution_count": null,
   "id": "dee3adcc",
   "metadata": {},
   "outputs": [],
   "source": [
    "words = []\n",
    "for message in temp['messages']:\n",
    "    for word in message.lower().split():\n",
    "        if word not in stop_words:\n",
    "            words.append(word)\n",
    "words\n",
    "    "
   ]
  },
  {
   "cell_type": "code",
   "execution_count": null,
   "id": "ce2c2f0e",
   "metadata": {},
   "outputs": [],
   "source": [
    "from collections import Counter\n",
    "data = pd.DataFrame(Counter(words).most_common(20))\n",
    "data.head()"
   ]
  },
  {
   "cell_type": "code",
   "execution_count": null,
   "id": "ab94c414",
   "metadata": {},
   "outputs": [],
   "source": [
    "sns.barplot(data = data,x=data[1],y=data[0],orient=\"h\")\n",
    "plt.xticks(rotation='vertical')\n",
    "plt.show()"
   ]
  },
  {
   "cell_type": "code",
   "execution_count": null,
   "id": "2afa69b1",
   "metadata": {},
   "outputs": [],
   "source": [
    "pip install emoji"
   ]
  },
  {
   "cell_type": "code",
   "execution_count": null,
   "id": "a886de1b",
   "metadata": {},
   "outputs": [],
   "source": [
    "import emoji\n",
    "import re\n",
    "temp['messages'].head()"
   ]
  },
  {
   "cell_type": "code",
   "execution_count": null,
   "id": "ae357960",
   "metadata": {},
   "outputs": [],
   "source": [
    "emojis = []\n",
    "for message in temp['messages']:\n",
    "    emojis_in_message = re.findall(r':(?:[^:\\s]+):', emoji.demojize(message))\n",
    "    emojis.extend(emojis_in_message)\n",
    "emojis\n",
    "actual_emojis = [emoji.emojize(emoji_text) for emoji_text in emojis]\n"
   ]
  },
  {
   "cell_type": "code",
   "execution_count": null,
   "id": "2241f917",
   "metadata": {},
   "outputs": [],
   "source": [
    "emoji_df = pd.DataFrame(Counter(actual_emojis).most_common(len(Counter(actual_emojis))))"
   ]
  },
  {
   "cell_type": "code",
   "execution_count": null,
   "id": "fd9c13d2",
   "metadata": {
    "scrolled": true
   },
   "outputs": [],
   "source": [
    "emoji_df.head()"
   ]
  },
  {
   "cell_type": "code",
   "execution_count": null,
   "id": "ede6aaaf",
   "metadata": {
    "scrolled": true
   },
   "outputs": [],
   "source": [
    "palette_color = sns.color_palette('dark')\n",
    "plt.pie(emoji_df.head()[1],labels = emoji_df.head()[0],autopct = \"%0.2f\")\n",
    "plt.show()"
   ]
  },
  {
   "cell_type": "code",
   "execution_count": null,
   "id": "0b2f5dfe",
   "metadata": {
    "scrolled": true
   },
   "outputs": [],
   "source": [
    "sns.barplot(emoji_df[0].head(),emoji_df[1].head())\n",
    "plt.show()"
   ]
  },
  {
   "cell_type": "code",
   "execution_count": null,
   "id": "1f6508dc",
   "metadata": {},
   "outputs": [],
   "source": [
    "df"
   ]
  },
  {
   "cell_type": "code",
   "execution_count": null,
   "id": "4010d462",
   "metadata": {},
   "outputs": [],
   "source": [
    "temp['month_num'] = temp['dates'].dt.month"
   ]
  },
  {
   "cell_type": "code",
   "execution_count": null,
   "id": "1f7f8eab",
   "metadata": {},
   "outputs": [],
   "source": [
    "df = temp"
   ]
  },
  {
   "cell_type": "code",
   "execution_count": null,
   "id": "5d394682",
   "metadata": {},
   "outputs": [],
   "source": [
    "timeline =  df.groupby(['year','month_num','month']).count()['messages'].reset_index()\n",
    "timeline"
   ]
  },
  {
   "cell_type": "code",
   "execution_count": null,
   "id": "81ad9a2e",
   "metadata": {},
   "outputs": [],
   "source": [
    "time = []\n",
    "for i in range(timeline.shape[0]):\n",
    "    time.append(timeline['month'][i] + \"-\"+str(timeline['year'][i]))"
   ]
  },
  {
   "cell_type": "code",
   "execution_count": null,
   "id": "4c315a05",
   "metadata": {},
   "outputs": [],
   "source": [
    "time"
   ]
  },
  {
   "cell_type": "code",
   "execution_count": null,
   "id": "8b93b839",
   "metadata": {},
   "outputs": [],
   "source": [
    "timeline['time'] = time"
   ]
  },
  {
   "cell_type": "code",
   "execution_count": null,
   "id": "4c7f1e8b",
   "metadata": {},
   "outputs": [],
   "source": [
    "timeline"
   ]
  },
  {
   "cell_type": "code",
   "execution_count": null,
   "id": "0a3d6cba",
   "metadata": {},
   "outputs": [],
   "source": [
    "sns.lineplot(x=timeline['time'],y=timeline['messages'])\n",
    "plt.xticks(rotation='vertical')\n",
    "plt.show()"
   ]
  },
  {
   "cell_type": "code",
   "execution_count": null,
   "id": "f4bccffd",
   "metadata": {},
   "outputs": [],
   "source": [
    "df['only_date'] = df['dates'].dt.date"
   ]
  },
  {
   "cell_type": "code",
   "execution_count": null,
   "id": "f7a0676c",
   "metadata": {},
   "outputs": [],
   "source": [
    "daily_timeline = df.groupby('only_date').count()['messages'].reset_index()\n",
    "daily_timeline\n"
   ]
  },
  {
   "cell_type": "code",
   "execution_count": null,
   "id": "a47c1d01",
   "metadata": {},
   "outputs": [],
   "source": [
    "plt.figure(figsize=(10,10))\n",
    "plt.xticks(rotation=\"vertical\")\n",
    "plt.plot(daily_timeline['only_date'],daily_timeline['messages'])"
   ]
  },
  {
   "cell_type": "code",
   "execution_count": null,
   "id": "e6c419f3",
   "metadata": {},
   "outputs": [],
   "source": [
    "df.head()"
   ]
  },
  {
   "cell_type": "code",
   "execution_count": null,
   "id": "b107faff",
   "metadata": {},
   "outputs": [],
   "source": [
    "df['day_name'] = df['dates'].dt.day_name()\n",
    "df"
   ]
  },
  {
   "cell_type": "code",
   "execution_count": null,
   "id": "1dbebc8b",
   "metadata": {},
   "outputs": [],
   "source": [
    "busy = df['day_name'].value_counts()\n",
    "busy.index"
   ]
  },
  {
   "cell_type": "code",
   "execution_count": null,
   "id": "96754b59",
   "metadata": {},
   "outputs": [],
   "source": [
    "sns.barplot(x=busy.index,y=busy.values)"
   ]
  },
  {
   "cell_type": "code",
   "execution_count": null,
   "id": "3097ab85",
   "metadata": {},
   "outputs": [],
   "source": [
    "busy_month = df['month'].value_counts()\n",
    "busy_month"
   ]
  },
  {
   "cell_type": "code",
   "execution_count": null,
   "id": "27beab75",
   "metadata": {},
   "outputs": [],
   "source": [
    "plt.xticks(rotation=\"vertical\")\n",
    "sns.lineplot(x = busy_month.index,y = busy_month.values)\n"
   ]
  },
  {
   "cell_type": "code",
   "execution_count": null,
   "id": "f7a259fb",
   "metadata": {},
   "outputs": [],
   "source": [
    "df[['day_name','hour']]['hour']"
   ]
  },
  {
   "cell_type": "code",
   "execution_count": null,
   "id": "804ee897",
   "metadata": {},
   "outputs": [],
   "source": [
    "timings = []\n",
    "for hour in df[['day_name','hour']]['hour']:\n",
    "    if hour == 23:\n",
    "        timings.append(str(hour) + \"-\" + str('00'))\n",
    "    elif hour == 0:\n",
    "        timings.append(str('00')+\"-\"+str(hour+1))\n",
    "    else:\n",
    "        timings.append(str(hour)+\"-\"+str(hour+1))\n",
    "timings"
   ]
  },
  {
   "cell_type": "code",
   "execution_count": null,
   "id": "3cf7c864",
   "metadata": {},
   "outputs": [],
   "source": [
    "df['time_periods'] = timings \n",
    "df.head()"
   ]
  },
  {
   "cell_type": "code",
   "execution_count": null,
   "id": "a27ac08a",
   "metadata": {},
   "outputs": [],
   "source": [
    "df['time_periods'].value_counts()"
   ]
  },
  {
   "cell_type": "code",
   "execution_count": null,
   "id": "92e21deb",
   "metadata": {},
   "outputs": [],
   "source": [
    "weekely_activity = df.pivot_table(index='day_name',columns=\"time_periods\",values='messages',aggfunc = 'count').fillna(0)"
   ]
  },
  {
   "cell_type": "code",
   "execution_count": null,
   "id": "896daf0d",
   "metadata": {},
   "outputs": [],
   "source": [
    "plt.figure(figsize=(20,10))\n",
    "sns.heatmap(weekely_activity,cmap ='seismic')"
   ]
  },
  {
   "cell_type": "code",
   "execution_count": null,
   "id": "9c1b2721",
   "metadata": {},
   "outputs": [],
   "source": []
  }
 ],
 "metadata": {
  "kernelspec": {
   "display_name": "Python 3 (ipykernel)",
   "language": "python",
   "name": "python3"
  },
  "language_info": {
   "codemirror_mode": {
    "name": "ipython",
    "version": 3
   },
   "file_extension": ".py",
   "mimetype": "text/x-python",
   "name": "python",
   "nbconvert_exporter": "python",
   "pygments_lexer": "ipython3",
   "version": "3.9.13"
  }
 },
 "nbformat": 4,
 "nbformat_minor": 5
}
